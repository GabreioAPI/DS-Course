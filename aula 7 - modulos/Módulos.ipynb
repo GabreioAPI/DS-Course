{
  "cells": [
    {
      "cell_type": "markdown",
      "metadata": {
        "id": "nmEyhLdjQdGz"
      },
      "source": [
        "# Módulos"
      ]
    },
    {
      "cell_type": "markdown",
      "metadata": {
        "id": "RusyYsEUFXvr"
      },
      "source": [
        "## Definição resumida"
      ]
    },
    {
      "cell_type": "markdown",
      "metadata": {
        "id": "ETtPXkxkFbM-"
      },
      "source": [
        "* __Módulo__ : é um arquivo python, ou seja, um arquivo com extensão .py\n",
        "\n",
        "* __Pacote__ : é um diretório com um ou mais arquivos python"
      ]
    },
    {
      "cell_type": "markdown",
      "metadata": {
        "id": "bKoZ-TaTGTjX"
      },
      "source": [
        "## Entendendo um pouco mais..."
      ]
    },
    {
      "cell_type": "markdown",
      "metadata": {
        "id": "74F9b-x0Qiqj"
      },
      "source": [
        "Ao saírmos e entrarmos no interpretador __Python__, as definições ali criadas como funções e variáveis são perdidas. \n",
        "\n",
        "Portanto, se quisermos escrever um programa maior, será mais eficiente usar um editor de texto / código para preparar as entradas para o interpretador, e executá-lo usando o arquivo como entrada.\n",
        "\n",
        "Isto é conhecido como criar um script. Se o nosso programa se tornar ainda maior, _**é uma boa prática dividí-lo**_ em arquivos menores, para facilitar a manutenção.\n",
        "\n",
        "Também é preferível usar um arquivo separado para uma função que estamos criando e pretendemos usá-la em vários outros programas. Desta forma, evitamos fazer uma cópia da função em cada um dos programas / scripts que irão utilizar a função."
      ]
    },
    {
      "cell_type": "markdown",
      "metadata": {
        "id": "Pz6pc1CdR49L"
      },
      "source": [
        "Para um melhor organização, você deve criar uma estrutura de diretórios que facilite seu trabalho e consequentemente sua manutenção.\n",
        "\n",
        "Reserve um diretório específico para armazenar seus módulos. Como vimos há pouco, este diretório será conhecido como pacote. \n",
        "\n",
        "> __DICA__ : não esqueça de colocar sempre nomes descritivos, tanto para diretórios, arquivos, módulos e variáveis em __Python__\n",
        "\n",
        "Dentro do pacote, você pode organizar seus arquivos da forma que achar melhor.\n",
        "\n",
        "__Exemplo 1__: \n",
        "\n",
        "```\n",
        "  meus_modulos\n",
        "             |\n",
        "              matematica.py\n",
        "              caracteres.py\n",
        "```\n",
        "__Exemplo 2__:\n",
        "\n",
        "```\n",
        "  meus_modulos\n",
        "             |\n",
        "              numeros\n",
        "             |      |\n",
        "             |       matematica.py\n",
        "             |\n",
        "              textos\n",
        "                   |\n",
        "                    caracteres.py\n",
        "```"
      ]
    },
    {
      "cell_type": "markdown",
      "metadata": {
        "id": "xVa0cEf_FFt-"
      },
      "source": [
        "## Como importar módulos no python"
      ]
    },
    {
      "cell_type": "markdown",
      "metadata": {
        "id": "aeG6RwzfFKGO"
      },
      "source": [
        "Há diversas formas de importarmos módulos built-in, bem como, nossos módulos. Nesta aula vamos criar 2 módulos - _matemática_ e _caracteres_. \n",
        "\n",
        "* __1ª forma__\n",
        "\n",
        "   `import caracteres`\n",
        "\n",
        "   __ATENÇÃO__ : aqui vai uma advertência, pois quando importamos um módulo desta forma estamos trazendo TODAS as funções implementadas nele e, provavelmente, usaremos poucas funções. \n",
        "\n",
        "    E o que acontece então? Você sobrecarrega a memória do seu computador desnecessariamente.\n",
        "\n",
        "* __2ª forma__ \n",
        "\n",
        "  `from caracteres import conta_vogais`\n",
        "\n",
        "  Para evitar carregar todo o módulo, podemos fazer a importação apenas da função que iremos utilizar.\n",
        "\n",
        "* __3ª forma__\n",
        "\n",
        "  ```\n",
        "  from caracteres import (\n",
        "          conta_vogais,\n",
        "          conta_letras\n",
        "          )\n",
        "  ```\n",
        "  Quando queremos ou precisamos importar mais de uma função, devemos importar todas as funções dentro de uma tupla, seguindo o padrão de estilização de código do python - PEP 8.\n",
        "\n",
        "* __4ª forma__\n",
        "\n",
        "  `from caracteres import *`\n",
        "\n",
        "  Aqui, basicamente, importamos tudo que está no módulo _caracteres_. Praticamente como a primeira forma e já vimos que não faz muito sentido, além de carregar a memória do computador desnecessariamente.\n",
        "\n",
        "  Porém, vale ressaltar que desta forma basta chamarmos as funções diretamente pelo nome sem a necessidade de colocar o nome do módulo antes de suas chamadas: \n",
        "\n",
        "  ```\n",
        "  from caracteres import *\n",
        "  conta_letras('Infinity School', espaco=True)\n",
        "  ```\n",
        "\n",
        "__DICA__ : podemos \"dar apelidos\" para nossos módulos e/ou funções. Veja nestes exemplos:\n",
        "\n",
        "  * _Exemplo 1_\n",
        "      `import caracteres as ch`\n",
        "\n",
        "      Aqui demos o apelido de __ch__ ao módulo _caracteres_ e será com ele que chamaremos as funções: `ch.conta_vogais('Rafael')`\n",
        "\n",
        "  * _Exemplo 2_\n",
        "      `from caracteres import conta_vogais as cv`\n",
        "\n",
        "__ATENÇÃO__ : para importar um ou mais módulos que não estejam no mesmo diretório que seu script, você deve especificar o caminho completo do pacote que contém os módulos que se deseja importar.\n",
        "\n",
        "  * _Exemplo_\n",
        "\n",
        "  ```\n",
        "    meus_modulos\n",
        "               |\n",
        "                matematica.py\n",
        "                caracteres.py\n",
        "    meu_programa.py\n",
        "  ```\n",
        "  Considerando a estrutura de pastas acima, você deve importar os módulos desta forma:\n",
        "\n",
        "    * `from meus_modulos.matematica import nome_da_função_desejada`\n",
        "    * `from meus_modulos.caracteres import nome_da_função_desejada`"
      ]
    },
    {
      "cell_type": "markdown",
      "metadata": {
        "id": "1RvaXlwaEN7g"
      },
      "source": [
        "## Dunder Objects"
      ]
    },
    {
      "cell_type": "markdown",
      "metadata": {
        "id": "sfnMLAyIElXY"
      },
      "source": [
        "* __init__ : para uma compatibilidade com a versão 2.x do __Python__, cria-se o arquivo `__init__.py` vazio dentro dos pacotes e sub-pacotes\n",
        "\n",
        "* __name__ : retorna o nome do arquivo python\n",
        "\n",
        "* __main__ : é retornado quando o arquivo python foi executado diretamente\n",
        "\n",
        "* __file__ : retorna o caminho absoluto do arquivo python\n",
        "\n",
        "* __doc__ : retorna a documentação do módulo, quando esta existe e, também, a documentação da função e/ou classe"
      ]
    },
    {
      "cell_type": "markdown",
      "metadata": {
        "id": "ZbPx0dtRRSKj"
      },
      "source": [
        "## O uso da cláusula condicional nos módulos"
      ]
    },
    {
      "cell_type": "markdown",
      "metadata": {
        "id": "IZ-95xZtRuSo"
      },
      "source": [
        "Para evitarmos que nossos módulos sejam chamados diretamente pelo python e executados, devemos inserir ao final de cada arquivo uma cláusula condicional utilizando os _dunder objects_ - `__name__` e `__main__` - que você acabou de aprender na seção anterior"
      ]
    },
    {
      "cell_type": "markdown",
      "metadata": {
        "id": "CglS8n9YST4E"
      },
      "source": [
        "_Exemplo_\n",
        "\n",
        "```\n",
        "  if __name__ == '__main__':\n",
        "      print(f'{__name__} é um módulo e não deve ser executado como um script')\n",
        "```\n"
      ]
    },
    {
      "cell_type": "markdown",
      "metadata": {
        "id": "CFCuvB_FUrny"
      },
      "source": [
        "Esta cláusula verifica se o nome do arquivo é igual ao objeto especial `__main__`. \n",
        "\n",
        "Se for verdadeiro, emitimos uma mensagem na saída padrão informando que este arquivo é um módulo.\n",
        "\n",
        "Arquivos de módulo não devem ser executados diretamente, e sim, devem ser chamados através de outros arquivos python - scripts."
      ]
    },
    {
      "cell_type": "markdown",
      "metadata": {
        "id": "RP_Ry991Nm_B"
      },
      "source": [
        "## Arquivos Python \"compilados\""
      ]
    },
    {
      "cell_type": "markdown",
      "metadata": {
        "id": "MMzQqJ0ZNvM8"
      },
      "source": [
        "Para acelerar o carregamento de módulos, o Python guarda versões compiladas de cada módulo no diretório `__pycache__` com o nome do `modulo.versão.pyc`, onde a versão correspponde ao formato do arquivo compilado; geralmente contêm o número da versão Python utilizada.\n",
        "\n",
        "Esta convenção de nomes permite a coexistência de módulos compilados de diferentes releases e versões de Python.\n",
        "\n",
        "O Python verifica a data de modificação do arquivo fonte mediante a versão compilada, para ver se está desatualizada e precisa ser recompilada.\n",
        "\n",
        "É um processo completamente automático. Além disso, os módulos compilados são independentes de plataforma, portanto a mesma biblioteca pode ser compartilhada entre sistemas de arquiteturas diferentes."
      ]
    },
    {
      "cell_type": "markdown",
      "metadata": {
        "id": "hT1TNNbXNZ0B"
      },
      "source": [
        "## Hora de praticar"
      ]
    },
    {
      "cell_type": "markdown",
      "metadata": {
        "id": "IlffgZxTLwyJ"
      },
      "source": [
        "### Atividade 1"
      ]
    },
    {
      "cell_type": "markdown",
      "metadata": {
        "id": "agXvLjSBLzhh"
      },
      "source": [
        "1. Entre na sua pasta de trabalho:\n",
        "\n",
        "  `cd nome_da_pasta_de_trabalho`\n",
        "\n",
        "   Caso esta não exista ainda, você deve criá-la com este comando no _Prompt de comando_: `md nome_da_pasta_de_trabalho`\n",
        "\n",
        "2. Suba seu ambiente virtual:\n",
        "\n",
        "   `nome_ambiente_virtual\\Scripts\\activate`\n",
        "\n",
        "   __OBS__ : em máquinas _unix-like_ ou _Mac_, rode este comando: `source nome_ambiente_virtual/bin/activate`\n",
        "\n",
        "   __DICA__ : para criar um ambiente virtual no _Prompt de Comando_: `python -m venv nome_ambiente_virtual`\n",
        "\n",
        "   __VALE LEMBRAR__ : se não lembrar de todos os detalhes sobre _ambientes virtuais_ no __Python__, volte algumas aulas e consulte o material correspondente\n",
        "\n",
        "3. Abra seu editor de código. No caso da __Infinity School__, o editor de código padrão é o __VS Code__, então basta digitar este comando: `code .`, onde o . representa o diretório atual\n",
        "\n",
        "4. Com o VS Code aberto, crie um diretório chamado `meus_modulos`. Este é, também, o seu pacote, pois conterá os 2 arquivos de módulos.\n",
        "\n",
        "5. Crie 2 arquivos python : _matematica.py_ e _caracteres.py_\n",
        "\n",
        "6. No módulo _matematica.py_ crie apenas as assinaturas com suas devidas _annotations_ das seguintes funções:\n",
        "\n",
        "  * calcula_percentual\n",
        "  * divide_dois\n",
        "  * fatorial\n",
        "  * media\n",
        "  * multiplica_dois\n",
        "  * par_ou_impar\n",
        "  * potencia\n",
        "  * quantos_porcento\n",
        "  * soma_dois\n",
        "  * subtrai_dois\n",
        "\n",
        "7. No módulo _caracteres.py_ crie apenas as assinaturas com suas devidas _annotations_ das seguintes funções:\n",
        "\n",
        "  * conta_letras\n",
        "  * conta_vogais\n",
        "  * eh_palindromo\n",
        "  * tem_maiusculas\n",
        "  * tem_minusculas\n",
        "\n",
        "__DICA__ : para completar os passos 6 e 7, você deve usar a palavra reservada `pass` ou então `...`\n"
      ]
    },
    {
      "cell_type": "markdown",
      "metadata": {
        "id": "P67p_3pfQfuB"
      },
      "source": [
        "### Atividade 2"
      ]
    },
    {
      "cell_type": "markdown",
      "metadata": {
        "id": "N0MyxqJFQh6N"
      },
      "source": [
        "Agora é hora de colocar a mão no código! Com o conhecimento adquirido nas aulas anteriores, implemente todas as funções"
      ]
    },
    {
      "cell_type": "markdown",
      "metadata": {
        "id": "FTCYHoasQ93m"
      },
      "source": [
        "### Atividade 3"
      ]
    },
    {
      "cell_type": "markdown",
      "metadata": {
        "id": "szG9-YcfQ_n6"
      },
      "source": [
        "Torne os arquivos python _matematica.py_ e _caracteres.py_ como módulos, ou seja, evite que estes arquivos sejam executados quando chamados diretamente."
      ]
    },
    {
      "cell_type": "markdown",
      "metadata": {
        "id": "CU9JSDvPQ2U_"
      },
      "source": [
        "### Atividade 4"
      ]
    },
    {
      "cell_type": "markdown",
      "metadata": {
        "id": "xKlYL--KQ3-p"
      },
      "source": [
        "Teste e valide suas funções"
      ]
    }
  ],
  "metadata": {
    "colab": {
      "name": "Módulos.ipynb",
      "provenance": []
    },
    "kernelspec": {
      "display_name": "environment",
      "language": "python",
      "name": "python3"
    },
    "language_info": {
      "name": "python",
      "version": "3.10.6 (tags/v3.10.6:9c7b4bd, Aug  1 2022, 21:53:49) [MSC v.1932 64 bit (AMD64)]"
    },
    "vscode": {
      "interpreter": {
        "hash": "09cc6dc86b5f760af5d5fdab0a60710cec6e04424831234cc98b99ad4bff559a"
      }
    }
  },
  "nbformat": 4,
  "nbformat_minor": 0
}
